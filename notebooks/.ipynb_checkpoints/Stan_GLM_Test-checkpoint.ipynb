{
 "cells": [
  {
   "cell_type": "code",
   "execution_count": 1,
   "metadata": {
    "collapsed": true
   },
   "outputs": [],
   "source": [
    "import requests"
   ]
  },
  {
   "cell_type": "code",
   "execution_count": 2,
   "metadata": {
    "collapsed": true
   },
   "outputs": [],
   "source": [
    "from bedrock.client.client import BedrockAPI"
   ]
  },
  {
   "cell_type": "code",
   "execution_count": 3,
   "metadata": {
    "collapsed": true
   },
   "outputs": [],
   "source": [
    "SERVER = \"http://localhost:81/\""
   ]
  },
  {
   "cell_type": "code",
   "execution_count": 4,
   "metadata": {
    "collapsed": true
   },
   "outputs": [],
   "source": [
    "api = BedrockAPI(SERVER)"
   ]
  },
  {
   "cell_type": "code",
   "execution_count": 5,
   "metadata": {
    "collapsed": true
   },
   "outputs": [],
   "source": [
    "filepath =  '/home/atam6/git/bedrock-core/examples/RAND2011study/Rand2011PNAS_cooperation_data.csv'"
   ]
  },
  {
   "cell_type": "code",
   "execution_count": 6,
   "metadata": {},
   "outputs": [
    {
     "name": "stderr",
     "output_type": "stream",
     "text": [
      "INFO: 2017-09-05 12:06:12,626: putting source to: http://localhost:81/dataloader/sources/Rand2001/opals.spreadsheet.Spreadsheet.Spreadsheet/default/\n"
     ]
    },
    {
     "name": "stdout",
     "output_type": "stream",
     "text": [
      "Failed to update /home/atam6/git/bedrock-core/examples/RAND2011study/Rand2011PNAS_cooperation_data.csv\n"
     ]
    }
   ],
   "source": [
    "ingest_id = 'opals.spreadsheet.Spreadsheet.Spreadsheet'\n",
    "resp = api.put_source('Rand2001',ingest_id, 'default',{'file':open(filepath, \"rb\")})\n",
    "if resp.status_code == 201:\n",
    "    print 'Source {0} successfully uploaded'.format(filepath)\n",
    "else:\n",
    "    print 'Failed to update {0}'.format(filepath)"
   ]
  },
  {
   "cell_type": "code",
   "execution_count": 7,
   "metadata": {
    "scrolled": true
   },
   "outputs": [
    {
     "name": "stderr",
     "output_type": "stream",
     "text": [
      "INFO: 2017-09-05 12:06:12,810: Listing: http://localhost:81/dataloader/sources/\n"
     ]
    }
   ],
   "source": [
    "available_sources = api.list(\"dataloader\",\"sources\").json()\n",
    "source = (s for s in available_sources if s[\"name\"] == \"Rand2001\").next()\n",
    "source_id = source[\"src_id\"]\n",
    "endpoint = api.endpoint(\"dataloader\",\"sources/%s/explore/\" % source_id)\n",
    "resp = requests.get(endpoint)"
   ]
  },
  {
   "cell_type": "code",
   "execution_count": 8,
   "metadata": {},
   "outputs": [
    {
     "name": "stdout",
     "output_type": "stream",
     "text": [
      "{u'src_id': u'2876d3ecda384e6ca195fefc0de078e9', u'name': u'rand_mtx', u'created': u'2017-09-05 16:06:13.255521', u'outputs': [u'features_original.txt', u'features.txt', u'matrix.csv'], u'id': u'28c95f5637ff4631a8b20d5fd98348a2', u'rootdir': u'/opt/bedrock/dataloader/data/2876d3ecda384e6ca195fefc0de078e9/28c95f5637ff4631a8b20d5fd98348a2/', u'filters': {u'fluid_dummy': {}, u'previous_decision': {}, u'group_size': {}, u'decision0d1c': {}, u'playerid': {}, u'_Icondition_4': {}, u'_Icondition_3': {}, u'_Icondition_2': {}, u'sessionnum': {}, u'num_neighbors': {}, u'round_num': {}, u'condition': {}}, u'mat_type': u'csv'}\n"
     ]
    }
   ],
   "source": [
    "resp = api.create_matrix(source_id, 'rand_mtx')\n",
    "mtx = resp[0]\n",
    "matrix_id = mtx['id']\n",
    "print(mtx)\n",
    "#resp"
   ]
  },
  {
   "cell_type": "code",
   "execution_count": 9,
   "metadata": {},
   "outputs": [
    {
     "name": "stdout",
     "output_type": "stream",
     "text": [
      "Stan_GLM Opal Installed!\n"
     ]
    }
   ],
   "source": [
    "resp = api.analytic('opals.stan.Stan.Stan_GLM')\n",
    "if resp.json():\n",
    "    print(\"Stan_GLM Opal Installed!\")\n",
    "else:\n",
    "    print(\"Stan_GLM Opal Not Installed!\")"
   ]
  },
  {
   "cell_type": "code",
   "execution_count": 10,
   "metadata": {},
   "outputs": [
    {
     "data": {
      "text/plain": [
       "<Response [200]>"
      ]
     },
     "execution_count": 10,
     "metadata": {},
     "output_type": "execute_result"
    }
   ],
   "source": [
    "resp"
   ]
  },
  {
   "cell_type": "markdown",
   "metadata": {},
   "source": [
    "## Run Stan_GLM"
   ]
  },
  {
   "cell_type": "code",
   "execution_count": 11,
   "metadata": {},
   "outputs": [
    {
     "data": {
      "text/plain": [
       "{u'analytic_id': u'opals.stan.Stan.Stan_GLM',\n",
       " u'created': u'2017-09-05 16:07:20.026469',\n",
       " u'id': u'4ccd7d9f480648ca83dcb2486f6f36ef',\n",
       " u'name': u'rand_stan_test',\n",
       " u'outputs': [u'prior_summary.txt', u'summary.txt'],\n",
       " u'parameters': [{u'attrname': u'formula',\n",
       "   u'name': u'Formula',\n",
       "   u'type': u'input',\n",
       "   u'value': u'decision0d1c ~ condition'},\n",
       "  {u'attrname': u'family',\n",
       "   u'name': u'GLM family',\n",
       "   u'type': u'input',\n",
       "   u'value': u\"binomial(link = 'logit')\"},\n",
       "  {u'attrname': u'chains',\n",
       "   u'name': u'chains',\n",
       "   u'type': u'input',\n",
       "   u'value': u'3'},\n",
       "  {u'attrname': u'iter',\n",
       "   u'name': u'iter',\n",
       "   u'type': u'input',\n",
       "   u'value': u'3000'},\n",
       "  {u'attrname': u'prior', u'name': u'prior', u'type': u'input', u'value': u''},\n",
       "  {u'attrname': u'prior_intercept',\n",
       "   u'name': u'prior_intercept',\n",
       "   u'type': u'input',\n",
       "   u'value': u''}],\n",
       " u'rootdir': u'/opt/bedrock/analytics/data/28c95f5637ff4631a8b20d5fd98348a2/4ccd7d9f480648ca83dcb2486f6f36ef/',\n",
       " u'src_id': u'28c95f5637ff4631a8b20d5fd98348a2'}"
      ]
     },
     "execution_count": 11,
     "metadata": {},
     "output_type": "execute_result"
    }
   ],
   "source": [
    "analytic_id = \"opals.stan.Stan.Stan_GLM\"\n",
    "inputData = {\n",
    "    'matrix.csv': mtx,\n",
    "    'features.txt': mtx\n",
    "}\n",
    "\n",
    "paramsData = [\n",
    "            { \"name\" : \"Formula\", \"attrname\" : \"formula\", \"value\" : \"decision0d1c ~ condition\", \"type\" : \"input\" },\n",
    "            { \"name\" : \"GLM family\", \"attrname\" : \"family\", \"value\" : \"binomial(link = 'logit')\", \"type\" : \"input\" },\n",
    "            { \"name\" : \"chains\", \"attrname\" : \"chains\" , \"value\" : \"3\", \"type\" : \"input\"},\n",
    "            { \"name\" : \"iter\", \"attrname\" : \"iter\" , \"value\" : \"3000\", \"type\" : \"input\"},\n",
    "            { \"name\" : \"prior\", \"attrname\" : \"prior\" , \"value\" : \"\", \"type\" : \"input\"},\n",
    "            { \"name\" : \"prior_intercept\", \"attrname\" : \"prior_intercept\" , \"value\" : \"\", \"type\" : \"input\"}\n",
    "        ]\n",
    "\n",
    "result_mtx = api.run_analytic(analytic_id, mtx, 'rand_stan_test', input_data=inputData, parameter_data=paramsData)\n",
    "\n",
    "result_mtx"
   ]
  },
  {
   "cell_type": "markdown",
   "metadata": {},
   "source": [
    "## Get Stan_GLM outputs"
   ]
  },
  {
   "cell_type": "code",
   "execution_count": 14,
   "metadata": {},
   "outputs": [
    {
     "data": {
      "text/plain": [
       "u'28c95f5637ff4631a8b20d5fd98348a2'"
      ]
     },
     "execution_count": 14,
     "metadata": {},
     "output_type": "execute_result"
    }
   ],
   "source": [
    "result_mtx['src_id']"
   ]
  },
  {
   "cell_type": "code",
   "execution_count": 15,
   "metadata": {},
   "outputs": [
    {
     "data": {
      "text/plain": [
       "u'4ccd7d9f480648ca83dcb2486f6f36ef'"
      ]
     },
     "execution_count": 15,
     "metadata": {},
     "output_type": "execute_result"
    }
   ],
   "source": [
    "result_mtx['id']"
   ]
  },
  {
   "cell_type": "code",
   "execution_count": 16,
   "metadata": {
    "collapsed": true
   },
   "outputs": [],
   "source": [
    "import requests"
   ]
  },
  {
   "cell_type": "code",
   "execution_count": 17,
   "metadata": {
    "collapsed": true
   },
   "outputs": [],
   "source": [
    "base_url = \"http://localhost:81/analytics/results/{0}/{1}/download/prior_summary.txt/prior_summary.txt/\""
   ]
  },
  {
   "cell_type": "code",
   "execution_count": 18,
   "metadata": {
    "collapsed": true
   },
   "outputs": [],
   "source": [
    "url = base_url.format(result_mtx['src_id'],result_mtx['id'])"
   ]
  },
  {
   "cell_type": "code",
   "execution_count": 19,
   "metadata": {
    "collapsed": true
   },
   "outputs": [],
   "source": [
    "response = requests.get(url)"
   ]
  },
  {
   "cell_type": "code",
   "execution_count": 21,
   "metadata": {},
   "outputs": [
    {
     "data": {
      "text/plain": [
       "u\"P\\nr\\ni\\no\\nr\\ns\\n \\nf\\no\\nr\\n \\nm\\no\\nd\\ne\\nl\\n \\n'\\no\\nu\\nt\\np\\nu\\nt\\n'\\n \\n\\n\\n-\\n-\\n-\\n-\\n-\\n-\\n\\n\\nI\\nn\\nt\\ne\\nr\\nc\\ne\\np\\nt\\n \\n(\\na\\nf\\nt\\ne\\nr\\n \\np\\nr\\ne\\nd\\ni\\nc\\nt\\no\\nr\\ns\\n \\nc\\ne\\nn\\nt\\ne\\nr\\ne\\nd\\n)\\n\\n\\n \\n~\\n \\nn\\no\\nr\\nm\\na\\nl\\n(\\nl\\no\\nc\\na\\nt\\ni\\no\\nn\\n \\n=\\n \\n0\\n,\\n \\ns\\nc\\na\\nl\\ne\\n \\n=\\n \\n1\\n0\\n)\\n\\n\\n\\n\\nC\\no\\ne\\nf\\nf\\ni\\nc\\ni\\ne\\nn\\nt\\ns\\n\\n\\n \\n~\\n \\nn\\no\\nr\\nm\\na\\nl\\n(\\nl\\no\\nc\\na\\nt\\ni\\no\\nn\\n \\n=\\n \\n[\\n0\\n,\\n0\\n,\\n0\\n,\\n.\\n.\\n.\\n]\\n,\\n \\ns\\nc\\na\\nl\\ne\\n \\n=\\n \\n[\\n2\\n.\\n5\\n,\\n2\\n.\\n5\\n,\\n2\\n.\\n5\\n,\\n.\\n.\\n.\\n]\\n)\\n\\n\\n-\\n-\\n-\\n-\\n-\\n-\\n\\n\\nS\\ne\\ne\\n \\nh\\ne\\nl\\np\\n(\\n'\\np\\nr\\ni\\no\\nr\\n_\\ns\\nu\\nm\\nm\\na\\nr\\ny\\n.\\ns\\nt\\na\\nn\\nr\\ne\\ng\\n'\\n)\\n \\nf\\no\\nr\\n \\nm\\no\\nr\\ne\\n \\nd\\ne\\nt\\na\\ni\\nl\\ns\\n\""
      ]
     },
     "execution_count": 21,
     "metadata": {},
     "output_type": "execute_result"
    }
   ],
   "source": [
    "response.text"
   ]
  },
  {
   "cell_type": "code",
   "execution_count": 22,
   "metadata": {
    "collapsed": true
   },
   "outputs": [],
   "source": [
    "base_url = \"http://localhost:81/analytics/results/{0}/{1}/download/summary.txt/summary.txt/\""
   ]
  },
  {
   "cell_type": "code",
   "execution_count": 23,
   "metadata": {
    "collapsed": true
   },
   "outputs": [],
   "source": [
    "url = base_url.format(result_mtx['src_id'],result_mtx['id'])"
   ]
  },
  {
   "cell_type": "code",
   "execution_count": 24,
   "metadata": {
    "collapsed": true
   },
   "outputs": [],
   "source": [
    "response = requests.get(url)"
   ]
  },
  {
   "cell_type": "code",
   "execution_count": 25,
   "metadata": {},
   "outputs": [
    {
     "data": {
      "text/plain": [
       "u'\\n\\nM\\no\\nd\\ne\\nl\\n \\nI\\nn\\nf\\no\\n:\\n\\n\\n\\n\\n \\nf\\nu\\nn\\nc\\nt\\ni\\no\\nn\\n:\\n \\n \\ns\\nt\\na\\nn\\n_\\ng\\nl\\nm\\n\\n\\n \\nf\\na\\nm\\ni\\nl\\ny\\n:\\n \\n \\n \\n \\nb\\ni\\nn\\no\\nm\\ni\\na\\nl\\n \\n[\\nl\\no\\ng\\ni\\nt\\n]\\n\\n\\n \\nf\\no\\nr\\nm\\nu\\nl\\na\\n:\\n \\n \\n \\n\"\\nd\\ne\\nc\\ni\\ns\\ni\\no\\nn\\n0\\nd\\n1\\nc\\n~\\nr\\no\\nu\\nn\\nd\\n_\\nn\\nu\\nm\\n\"\\n\\n\\n \\na\\nl\\ng\\no\\nr\\ni\\nt\\nh\\nm\\n:\\n \\ns\\na\\nm\\np\\nl\\ni\\nn\\ng\\n\\n\\n \\np\\nr\\ni\\no\\nr\\ns\\n:\\n \\n \\n \\n \\ns\\ne\\ne\\n \\nh\\ne\\nl\\np\\n(\\n\\'\\np\\nr\\ni\\no\\nr\\n_\\ns\\nu\\nm\\nm\\na\\nr\\ny\\n\\'\\n)\\n\\n\\n \\ns\\na\\nm\\np\\nl\\ne\\n:\\n \\n \\n \\n \\n4\\n5\\n0\\n0\\n \\n(\\np\\no\\ns\\nt\\ne\\nr\\ni\\no\\nr\\n \\ns\\na\\nm\\np\\nl\\ne\\n \\ns\\ni\\nz\\ne\\n)\\n\\n\\n \\nn\\nu\\nm\\n \\no\\nb\\ns\\n:\\n \\n \\n \\n3\\n8\\n7\\n6\\n\\n\\n\\n\\nE\\ns\\nt\\ni\\nm\\na\\nt\\ne\\ns\\n:\\n\\n\\n \\n \\n \\n \\n \\n \\n \\n \\n \\n \\n \\n \\n \\n \\n \\n \\nm\\ne\\na\\nn\\n \\n \\n \\n \\ns\\nd\\n \\n \\n \\n \\n \\n \\n2\\n.\\n5\\n%\\n \\n \\n \\n \\n2\\n5\\n%\\n \\n \\n \\n \\n \\n5\\n0\\n%\\n \\n \\n \\n \\n \\n7\\n5\\n%\\n \\n \\n \\n \\n \\n9\\n7\\n.\\n5\\n%\\n\\n\\n(\\nI\\nn\\nt\\ne\\nr\\nc\\ne\\np\\nt\\n)\\n \\n \\n \\n \\n \\n \\n \\n0\\n.\\n4\\n \\n \\n \\n \\n \\n0\\n.\\n1\\n \\n \\n \\n \\n \\n0\\n.\\n3\\n \\n \\n \\n \\n \\n0\\n.\\n4\\n \\n \\n \\n \\n \\n0\\n.\\n4\\n \\n \\n \\n \\n \\n0\\n.\\n5\\n \\n \\n \\n \\n \\n0\\n.\\n6\\n\\n\\nr\\no\\nu\\nn\\nd\\n_\\nn\\nu\\nm\\n1\\n0\\n \\n \\n \\n \\n \\n \\n-\\n1\\n.\\n6\\n \\n \\n \\n \\n \\n0\\n.\\n3\\n \\n \\n \\n \\n-\\n2\\n.\\n2\\n \\n \\n \\n \\n-\\n1\\n.\\n8\\n \\n \\n \\n \\n-\\n1\\n.\\n6\\n \\n \\n \\n \\n-\\n1\\n.\\n4\\n \\n \\n \\n \\n-\\n1\\n.\\n0\\n\\n\\nr\\no\\nu\\nn\\nd\\n_\\nn\\nu\\nm\\n1\\n1\\n \\n \\n \\n \\n \\n \\n-\\n1\\n.\\n4\\n \\n \\n \\n \\n \\n0\\n.\\n3\\n \\n \\n \\n \\n-\\n2\\n.\\n0\\n \\n \\n \\n \\n-\\n1\\n.\\n6\\n \\n \\n \\n \\n-\\n1\\n.\\n4\\n \\n \\n \\n \\n-\\n1\\n.\\n2\\n \\n \\n \\n \\n-\\n0\\n.\\n9\\n\\n\\nr\\no\\nu\\nn\\nd\\n_\\nn\\nu\\nm\\n2\\n \\n \\n \\n \\n \\n \\n \\n \\n0\\n.\\n1\\n \\n \\n \\n \\n \\n0\\n.\\n1\\n \\n \\n \\n \\n-\\n0\\n.\\n1\\n \\n \\n \\n \\n \\n0\\n.\\n0\\n \\n \\n \\n \\n \\n0\\n.\\n1\\n \\n \\n \\n \\n \\n0\\n.\\n1\\n \\n \\n \\n \\n \\n0\\n.\\n3\\n\\n\\nr\\no\\nu\\nn\\nd\\n_\\nn\\nu\\nm\\n3\\n \\n \\n \\n \\n \\n \\n \\n-\\n0\\n.\\n2\\n \\n \\n \\n \\n \\n0\\n.\\n1\\n \\n \\n \\n \\n-\\n0\\n.\\n4\\n \\n \\n \\n \\n-\\n0\\n.\\n3\\n \\n \\n \\n \\n-\\n0\\n.\\n2\\n \\n \\n \\n \\n-\\n0\\n.\\n1\\n \\n \\n \\n \\n \\n0\\n.\\n0\\n\\n\\nr\\no\\nu\\nn\\nd\\n_\\nn\\nu\\nm\\n4\\n \\n \\n \\n \\n \\n \\n \\n-\\n0\\n.\\n3\\n \\n \\n \\n \\n \\n0\\n.\\n1\\n \\n \\n \\n \\n-\\n0\\n.\\n5\\n \\n \\n \\n \\n-\\n0\\n.\\n4\\n \\n \\n \\n \\n-\\n0\\n.\\n3\\n \\n \\n \\n \\n-\\n0\\n.\\n2\\n \\n \\n \\n \\n-\\n0\\n.\\n1\\n\\n\\nr\\no\\nu\\nn\\nd\\n_\\nn\\nu\\nm\\n5\\n \\n \\n \\n \\n \\n \\n \\n-\\n0\\n.\\n5\\n \\n \\n \\n \\n \\n0\\n.\\n1\\n \\n \\n \\n \\n-\\n0\\n.\\n8\\n \\n \\n \\n \\n-\\n0\\n.\\n6\\n \\n \\n \\n \\n-\\n0\\n.\\n5\\n \\n \\n \\n \\n-\\n0\\n.\\n4\\n \\n \\n \\n \\n-\\n0\\n.\\n3\\n\\n\\nr\\no\\nu\\nn\\nd\\n_\\nn\\nu\\nm\\n6\\n \\n \\n \\n \\n \\n \\n \\n-\\n0\\n.\\n7\\n \\n \\n \\n \\n \\n0\\n.\\n1\\n \\n \\n \\n \\n-\\n1\\n.\\n0\\n \\n \\n \\n \\n-\\n0\\n.\\n8\\n \\n \\n \\n \\n-\\n0\\n.\\n7\\n \\n \\n \\n \\n-\\n0\\n.\\n6\\n \\n \\n \\n \\n-\\n0\\n.\\n4\\n\\n\\nr\\no\\nu\\nn\\nd\\n_\\nn\\nu\\nm\\n7\\n \\n \\n \\n \\n \\n \\n \\n-\\n0\\n.\\n7\\n \\n \\n \\n \\n \\n0\\n.\\n2\\n \\n \\n \\n \\n-\\n1\\n.\\n0\\n \\n \\n \\n \\n-\\n0\\n.\\n8\\n \\n \\n \\n \\n-\\n0\\n.\\n7\\n \\n \\n \\n \\n-\\n0\\n.\\n6\\n \\n \\n \\n \\n-\\n0\\n.\\n4\\n\\n\\nr\\no\\nu\\nn\\nd\\n_\\nn\\nu\\nm\\n8\\n \\n \\n \\n \\n \\n \\n \\n-\\n0\\n.\\n8\\n \\n \\n \\n \\n \\n0\\n.\\n2\\n \\n \\n \\n \\n-\\n1\\n.\\n1\\n \\n \\n \\n \\n-\\n0\\n.\\n9\\n \\n \\n \\n \\n-\\n0\\n.\\n8\\n \\n \\n \\n \\n-\\n0\\n.\\n7\\n \\n \\n \\n \\n-\\n0\\n.\\n5\\n\\n\\nr\\no\\nu\\nn\\nd\\n_\\nn\\nu\\nm\\n9\\n \\n \\n \\n \\n \\n \\n \\n-\\n0\\n.\\n8\\n \\n \\n \\n \\n \\n0\\n.\\n2\\n \\n \\n \\n \\n-\\n1\\n.\\n2\\n \\n \\n \\n \\n-\\n0\\n.\\n9\\n \\n \\n \\n \\n-\\n0\\n.\\n8\\n \\n \\n \\n \\n-\\n0\\n.\\n7\\n \\n \\n \\n \\n-\\n0\\n.\\n5\\n\\n\\nm\\ne\\na\\nn\\n_\\nP\\nP\\nD\\n \\n \\n \\n \\n \\n \\n \\n \\n \\n \\n0\\n.\\n5\\n \\n \\n \\n \\n \\n0\\n.\\n0\\n \\n \\n \\n \\n \\n0\\n.\\n5\\n \\n \\n \\n \\n \\n0\\n.\\n5\\n \\n \\n \\n \\n \\n0\\n.\\n5\\n \\n \\n \\n \\n \\n0\\n.\\n5\\n \\n \\n \\n \\n \\n0\\n.\\n6\\n\\n\\nl\\no\\ng\\n-\\np\\no\\ns\\nt\\ne\\nr\\ni\\no\\nr\\n \\n-\\n2\\n6\\n3\\n2\\n.\\n5\\n \\n \\n \\n \\n \\n2\\n.\\n3\\n \\n-\\n2\\n6\\n3\\n8\\n.\\n0\\n \\n-\\n2\\n6\\n3\\n3\\n.\\n8\\n \\n-\\n2\\n6\\n3\\n2\\n.\\n1\\n \\n-\\n2\\n6\\n3\\n0\\n.\\n8\\n \\n-\\n2\\n6\\n2\\n8\\n.\\n9\\n\\n\\n\\n\\nD\\ni\\na\\ng\\nn\\no\\ns\\nt\\ni\\nc\\ns\\n:\\n\\n\\n \\n \\n \\n \\n \\n \\n \\n \\n \\n \\n \\n \\n \\n \\nm\\nc\\ns\\ne\\n \\nR\\nh\\na\\nt\\n \\nn\\n_\\ne\\nf\\nf\\n\\n\\n(\\nI\\nn\\nt\\ne\\nr\\nc\\ne\\np\\nt\\n)\\n \\n \\n \\n0\\n.\\n0\\n \\n \\n1\\n.\\n0\\n \\n \\n1\\n5\\n4\\n0\\n \\n\\n\\nr\\no\\nu\\nn\\nd\\n_\\nn\\nu\\nm\\n1\\n0\\n \\n \\n \\n0\\n.\\n0\\n \\n \\n1\\n.\\n0\\n \\n \\n4\\n1\\n3\\n2\\n \\n\\n\\nr\\no\\nu\\nn\\nd\\n_\\nn\\nu\\nm\\n1\\n1\\n \\n \\n \\n0\\n.\\n0\\n \\n \\n1\\n.\\n0\\n \\n \\n4\\n5\\n0\\n0\\n \\n\\n\\nr\\no\\nu\\nn\\nd\\n_\\nn\\nu\\nm\\n2\\n \\n \\n \\n \\n0\\n.\\n0\\n \\n \\n1\\n.\\n0\\n \\n \\n2\\n0\\n8\\n0\\n \\n\\n\\nr\\no\\nu\\nn\\nd\\n_\\nn\\nu\\nm\\n3\\n \\n \\n \\n \\n0\\n.\\n0\\n \\n \\n1\\n.\\n0\\n \\n \\n2\\n3\\n7\\n7\\n \\n\\n\\nr\\no\\nu\\nn\\nd\\n_\\nn\\nu\\nm\\n4\\n \\n \\n \\n \\n0\\n.\\n0\\n \\n \\n1\\n.\\n0\\n \\n \\n2\\n3\\n6\\n9\\n \\n\\n\\nr\\no\\nu\\nn\\nd\\n_\\nn\\nu\\nm\\n5\\n \\n \\n \\n \\n0\\n.\\n0\\n \\n \\n1\\n.\\n0\\n \\n \\n2\\n3\\n8\\n7\\n \\n\\n\\nr\\no\\nu\\nn\\nd\\n_\\nn\\nu\\nm\\n6\\n \\n \\n \\n \\n0\\n.\\n0\\n \\n \\n1\\n.\\n0\\n \\n \\n2\\n6\\n1\\n9\\n \\n\\n\\nr\\no\\nu\\nn\\nd\\n_\\nn\\nu\\nm\\n7\\n \\n \\n \\n \\n0\\n.\\n0\\n \\n \\n1\\n.\\n0\\n \\n \\n3\\n0\\n6\\n4\\n \\n\\n\\nr\\no\\nu\\nn\\nd\\n_\\nn\\nu\\nm\\n8\\n \\n \\n \\n \\n0\\n.\\n0\\n \\n \\n1\\n.\\n0\\n \\n \\n3\\n0\\n6\\n8\\n \\n\\n\\nr\\no\\nu\\nn\\nd\\n_\\nn\\nu\\nm\\n9\\n \\n \\n \\n \\n0\\n.\\n0\\n \\n \\n1\\n.\\n0\\n \\n \\n3\\n2\\n9\\n6\\n \\n\\n\\nm\\ne\\na\\nn\\n_\\nP\\nP\\nD\\n \\n \\n \\n \\n \\n \\n0\\n.\\n0\\n \\n \\n1\\n.\\n0\\n \\n \\n4\\n5\\n0\\n0\\n \\n\\n\\nl\\no\\ng\\n-\\np\\no\\ns\\nt\\ne\\nr\\ni\\no\\nr\\n \\n0\\n.\\n1\\n \\n \\n1\\n.\\n0\\n \\n \\n1\\n7\\n8\\n8\\n \\n\\n\\n\\n\\nF\\no\\nr\\n \\ne\\na\\nc\\nh\\n \\np\\na\\nr\\na\\nm\\ne\\nt\\ne\\nr\\n,\\n \\nm\\nc\\ns\\ne\\n \\ni\\ns\\n \\nM\\no\\nn\\nt\\ne\\n \\nC\\na\\nr\\nl\\no\\n \\ns\\nt\\na\\nn\\nd\\na\\nr\\nd\\n \\ne\\nr\\nr\\no\\nr\\n,\\n \\nn\\n_\\ne\\nf\\nf\\n \\ni\\ns\\n \\na\\n \\nc\\nr\\nu\\nd\\ne\\n \\nm\\ne\\na\\ns\\nu\\nr\\ne\\n \\no\\nf\\n \\ne\\nf\\nf\\ne\\nc\\nt\\ni\\nv\\ne\\n \\ns\\na\\nm\\np\\nl\\ne\\n \\ns\\ni\\nz\\ne\\n,\\n \\na\\nn\\nd\\n \\nR\\nh\\na\\nt\\n \\ni\\ns\\n \\nt\\nh\\ne\\n \\np\\no\\nt\\ne\\nn\\nt\\ni\\na\\nl\\n \\ns\\nc\\na\\nl\\ne\\n \\nr\\ne\\nd\\nu\\nc\\nt\\ni\\no\\nn\\n \\nf\\na\\nc\\nt\\no\\nr\\n \\no\\nn\\n \\ns\\np\\nl\\ni\\nt\\n \\nc\\nh\\na\\ni\\nn\\ns\\n \\n(\\na\\nt\\n \\nc\\no\\nn\\nv\\ne\\nr\\ng\\ne\\nn\\nc\\ne\\n \\nR\\nh\\na\\nt\\n=\\n1\\n)\\n.\\n\\n\\n'"
      ]
     },
     "execution_count": 25,
     "metadata": {},
     "output_type": "execute_result"
    }
   ],
   "source": [
    "response.text"
   ]
  },
  {
   "cell_type": "code",
   "execution_count": null,
   "metadata": {
    "collapsed": true
   },
   "outputs": [],
   "source": []
  }
 ],
 "metadata": {
  "kernelspec": {
   "display_name": "Python 2",
   "language": "python",
   "name": "python2"
  },
  "language_info": {
   "codemirror_mode": {
    "name": "ipython",
    "version": 2
   },
   "file_extension": ".py",
   "mimetype": "text/x-python",
   "name": "python",
   "nbconvert_exporter": "python",
   "pygments_lexer": "ipython2",
   "version": "2.7.12"
  }
 },
 "nbformat": 4,
 "nbformat_minor": 2
}
