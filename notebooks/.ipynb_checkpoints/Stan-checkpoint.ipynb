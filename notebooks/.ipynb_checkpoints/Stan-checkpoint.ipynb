{
 "cells": [
  {
   "cell_type": "markdown",
   "metadata": {},
   "source": [
    "## Building Class to encapsulate STAN_GLM method of RSTANARM"
   ]
  },
  {
   "cell_type": "code",
   "execution_count": 11,
   "metadata": {
    "collapsed": true
   },
   "outputs": [],
   "source": [
    "import subprocess\n",
    "import os\n",
    "from bedrock.analytics.utils import Algorithm\n",
    "import pandas as pd\n",
    "import logging\n",
    "import rpy2\n",
    "import rpy2.robjects as robjects\n",
    "from rpy2.robjects import pandas2ri\n",
    "from rpy2.robjects.packages import importr\n",
    "\n",
    "def check_valid_formula(formula):\n",
    "    # TODO: Look at `patsy` for helper function to validate more fully\n",
    "    if (len(formula.split('~')) < 2):\n",
    "        logging.error(\"Formula does not have ~\")\n",
    "        return False\n",
    "\n",
    "class Stan_GLM(Algorithm):\n",
    "    def __init__(self):\n",
    "        super(Stan_GLM, self).__init__()\n",
    "        self.parameters = []\n",
    "        self.inputs = ['matrix.csv','features.txt']\n",
    "        self.outputs = ['prior_summary.txt', 'summary.txt']\n",
    "        self.name ='Stan_GLM'\n",
    "        self.type = 'GLM'\n",
    "        self.description = 'Performs Stan_GLM analysis on the input dataset.'\n",
    "        \n",
    "        self.parameters_spec = [\n",
    "            { \"name\" : \"Formula\", \"attrname\" : \"formula\", \"value\" : \"\", \"type\" : \"input\" },\n",
    "            { \"name\" : \"GLM family\", \"attrname\" : \"family\", \"value\" : \"binomial\", \"type\" : \"input\" },\n",
    "            { \"name\" : \"chains\", \"attrname\" : \"chains\" , \"value\" : \"\", \"type\" : \"input\"},\n",
    "            { \"name\" : \"iter\", \"attrname\" : \"iter\" , \"value\" : \"\", \"type\" : \"input\"},\n",
    "            { \"name\" : \"prior\", \"attrname\" : \"prior\" , \"value\" : \"\", \"type\" : \"input\"},\n",
    "            { \"name\" : \"prior_intercept\", \"attrname\" : \"prior_intercept\" , \"value\" : \"\", \"type\" : \"input\"}\n",
    "        ]\n",
    "\n",
    "    def check_parameters(self):\n",
    "        logging.error(\"Started check parms\")\n",
    "        super(Stan_GLM, self).check_parameters()\n",
    "\n",
    "        if(check_valid_formula(self.formula) == False):\n",
    "            return False\n",
    "\n",
    "        self.family = self.family.lower()\n",
    "\n",
    "        if (self.family != 'binomial(link = \"logit\")' and self.family != 'gaussian(link = \"identity\")'):\n",
    "            logging.error(\"GLM family {} not supported\".format(self.family))\n",
    "            return False\n",
    "            \n",
    "        return True\n",
    "    def __build_df__(self, filepath):\n",
    "        featuresPath = filepath['features.txt']['rootdir'] + 'features.txt'\n",
    "        matrixPath = filepath['matrix.csv']['rootdir'] + 'matrix.csv'\n",
    "        df = pd.read_csv(matrixPath, header=-1)\n",
    "        featuresList = pd.read_csv(featuresPath, header=-1)\n",
    "\n",
    "        df.columns = featuresList.T.values[0]\n",
    "\n",
    "        return df\n",
    "\n",
    "\n",
    "    def compute(self, filepath, **kwargs):\n",
    "        rstan = importr(\"rstan\")\n",
    "        rstanarm = importr(\"rstanarm\")\n",
    "\n",
    "        df = self.__build_df__(filepath)\n",
    "        rdf = pandas2ri.py2ri(df)\n",
    "        \n",
    "        rglmString = \"stan_glm({}, data=MyData,family = {}, chains = {}, iter = {})\"\n",
    "        \n",
    "        rglmStringFormatted = rglmString.format(kwargs[\"formula\"],kwargs[\"family\"],kwargs[\"chains\"], kwargs[\"iter\"], kwargs[\"prior\"], kwargs[\"prior_intercept\"])\n",
    "        \n",
    "        rpy2.robjects.r('MyData <- read.csv(file=\"/home/atam6/git/bedrock-core/examples/RAND2011study/Rand2011PNAS_cooperation_data.csv\", header=TRUE, sep=\",\")')\n",
    "        rpy2.robjects.r('output = stan_glm(decision0d1c~round_num, data=MyData,family = binomial(link = \"logit\"), chains = 3, iter = 3000)')\n",
    "        prior_summary = rpy2.robjects.r('prior_summary<-prior_summary(output)')\n",
    "        summary = rpy2.robjects.r('summary<-summary(output)')\n",
    "\n",
    "        self.results = {'prior_summary.txt': prior_summary, 'summary.txt': summary}\n"
   ]
  },
  {
   "cell_type": "markdown",
   "metadata": {},
   "source": [
    "## Developing Area"
   ]
  },
  {
   "cell_type": "code",
   "execution_count": null,
   "metadata": {
    "collapsed": true
   },
   "outputs": [],
   "source": [
    "import rpy2.robjects as robjects\n",
    "from rpy2.robjects import pandas2ri\n",
    "from rpy2.robjects.packages import importr"
   ]
  },
  {
   "cell_type": "code",
   "execution_count": 15,
   "metadata": {
    "collapsed": true
   },
   "outputs": [],
   "source": [
    "rstan = importr(\"rstan\")\n",
    "rstanarm = importr(\"rstanarm\")"
   ]
  },
  {
   "cell_type": "code",
   "execution_count": 22,
   "metadata": {
    "scrolled": true
   },
   "outputs": [
    {
     "name": "stdout",
     "output_type": "stream",
     "text": [
      "\n",
      "SAMPLING FOR MODEL 'bernoulli' NOW (CHAIN 1).\n",
      "\n",
      "Gradient evaluation took 0.000529 seconds\n",
      "1000 transitions using 10 leapfrog steps per transition would take 5.29 seconds.\n",
      "Adjust your expectations accordingly!\n",
      "\n",
      "\n",
      "Iteration:    1 / 3000 [  0%]  (Warmup)\n",
      "Iteration:  300 / 3000 [ 10%]  (Warmup)\n",
      "Iteration:  600 / 3000 [ 20%]  (Warmup)\n",
      "Iteration:  900 / 3000 [ 30%]  (Warmup)\n",
      "Iteration: 1200 / 3000 [ 40%]  (Warmup)\n",
      "Iteration: 1500 / 3000 [ 50%]  (Warmup)\n",
      "Iteration: 1501 / 3000 [ 50%]  (Sampling)\n",
      "Iteration: 1800 / 3000 [ 60%]  (Sampling)\n",
      "Iteration: 2100 / 3000 [ 70%]  (Sampling)\n",
      "Iteration: 2400 / 3000 [ 80%]  (Sampling)\n",
      "Iteration: 2700 / 3000 [ 90%]  (Sampling)\n",
      "Iteration: 3000 / 3000 [100%]  (Sampling)\n",
      "\n",
      " Elapsed Time: 5.21913 seconds (Warm-up)\n",
      "               5.31744 seconds (Sampling)\n",
      "               10.5366 seconds (Total)\n",
      "\n",
      "\n",
      "SAMPLING FOR MODEL 'bernoulli' NOW (CHAIN 2).\n",
      "\n",
      "Gradient evaluation took 0.000692 seconds\n",
      "1000 transitions using 10 leapfrog steps per transition would take 6.92 seconds.\n",
      "Adjust your expectations accordingly!\n",
      "\n",
      "\n",
      "Iteration:    1 / 3000 [  0%]  (Warmup)\n",
      "Iteration:  300 / 3000 [ 10%]  (Warmup)\n",
      "Iteration:  600 / 3000 [ 20%]  (Warmup)\n",
      "Iteration:  900 / 3000 [ 30%]  (Warmup)\n",
      "Iteration: 1200 / 3000 [ 40%]  (Warmup)\n",
      "Iteration: 1500 / 3000 [ 50%]  (Warmup)\n",
      "Iteration: 1501 / 3000 [ 50%]  (Sampling)\n",
      "Iteration: 1800 / 3000 [ 60%]  (Sampling)\n",
      "Iteration: 2100 / 3000 [ 70%]  (Sampling)\n",
      "Iteration: 2400 / 3000 [ 80%]  (Sampling)\n",
      "Iteration: 2700 / 3000 [ 90%]  (Sampling)\n",
      "Iteration: 3000 / 3000 [100%]  (Sampling)\n",
      "\n",
      " Elapsed Time: 4.91392 seconds (Warm-up)\n",
      "               4.91009 seconds (Sampling)\n",
      "               9.82401 seconds (Total)\n",
      "\n",
      "\n",
      "SAMPLING FOR MODEL 'bernoulli' NOW (CHAIN 3).\n",
      "\n",
      "Gradient evaluation took 0.000559 seconds\n",
      "1000 transitions using 10 leapfrog steps per transition would take 5.59 seconds.\n",
      "Adjust your expectations accordingly!\n",
      "\n",
      "\n",
      "Iteration:    1 / 3000 [  0%]  (Warmup)\n",
      "Iteration:  300 / 3000 [ 10%]  (Warmup)\n",
      "Iteration:  600 / 3000 [ 20%]  (Warmup)\n",
      "Iteration:  900 / 3000 [ 30%]  (Warmup)\n",
      "Iteration: 1200 / 3000 [ 40%]  (Warmup)\n",
      "Iteration: 1500 / 3000 [ 50%]  (Warmup)\n",
      "Iteration: 1501 / 3000 [ 50%]  (Sampling)\n",
      "Iteration: 1800 / 3000 [ 60%]  (Sampling)\n",
      "Iteration: 2100 / 3000 [ 70%]  (Sampling)\n",
      "Iteration: 2400 / 3000 [ 80%]  (Sampling)\n",
      "Iteration: 2700 / 3000 [ 90%]  (Sampling)\n",
      "Iteration: 3000 / 3000 [100%]  (Sampling)\n",
      "\n",
      " Elapsed Time: 6.10575 seconds (Warm-up)\n",
      "               4.79047 seconds (Sampling)\n",
      "               10.8962 seconds (Total)\n",
      "\n"
     ]
    }
   ],
   "source": [
    "rpy2.robjects.r('MyData <- read.csv(file=\"/home/atam6/git/bedrock-core/examples/RAND2011study/Rand2011PNAS_cooperation_data.csv\", header=TRUE, sep=\",\")')\n",
    "rpy2.robjects.r('output = stan_glm(decision0d1c~round_num, data=MyData,family = binomial(link = \"logit\"), chains = 3, iter = 3000)')\n",
    "prior_summary = rpy2.robjects.r('prior_summary<-prior_summary(output)')\n",
    "summary = rpy2.robjects.r('summary<-summary(output)')"
   ]
  },
  {
   "cell_type": "code",
   "execution_count": 23,
   "metadata": {},
   "outputs": [],
   "source": [
    "results = {'prior_summary.txt': prior_summary, 'summary.txt': summary}"
   ]
  },
  {
   "cell_type": "code",
   "execution_count": 24,
   "metadata": {},
   "outputs": [
    {
     "data": {
      "text/plain": [
       "{'prior_summary.txt': R object with classes: ('prior_summary.stanreg',) mapped to:\n",
       " <ListVector - Python:0x7f51a2db9638 / R:0x9dcdcc0>\n",
       " [ListVector, ListVector]\n",
       " R object with classes: ('prior_summary.stanreg',) mapped to:\n",
       " <ListVector - Python:0x7f51a2db9638 / R:0x9dcdcc0>\n",
       " [ListVector, ListVector]\n",
       " R object with classes: ('prior_summary.stanreg',) mapped to:\n",
       " <ListVector - Python:0x7f51a2db9638 / R:0x9dcdcc0>\n",
       " [ListVector, ListVector],\n",
       " 'summary.txt': R object with classes: ('summary.stanreg',) mapped to:\n",
       " <Matrix - Python:0x7f51a2e1c170 / R:0xb68ab50>\n",
       " [0.661268, -0.137107, 0.532512, ..., 1.000267, 0.999709, 1.001906]}"
      ]
     },
     "execution_count": 24,
     "metadata": {},
     "output_type": "execute_result"
    }
   ],
   "source": [
    "results"
   ]
  },
  {
   "cell_type": "code",
   "execution_count": null,
   "metadata": {
    "collapsed": true
   },
   "outputs": [],
   "source": []
  }
 ],
 "metadata": {
  "kernelspec": {
   "display_name": "Python 2",
   "language": "python",
   "name": "python2"
  },
  "language_info": {
   "codemirror_mode": {
    "name": "ipython",
    "version": 2
   },
   "file_extension": ".py",
   "mimetype": "text/x-python",
   "name": "python",
   "nbconvert_exporter": "python",
   "pygments_lexer": "ipython2",
   "version": "2.7.12"
  }
 },
 "nbformat": 4,
 "nbformat_minor": 2
}
