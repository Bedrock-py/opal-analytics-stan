{
 "cells": [
  {
   "cell_type": "code",
   "execution_count": 1,
   "metadata": {
    "collapsed": true
   },
   "outputs": [],
   "source": [
    "import requests"
   ]
  },
  {
   "cell_type": "code",
   "execution_count": 2,
   "metadata": {
    "collapsed": true
   },
   "outputs": [],
   "source": [
    "from bedrock.client.client import BedrockAPI"
   ]
  },
  {
   "cell_type": "code",
   "execution_count": 3,
   "metadata": {
    "collapsed": true
   },
   "outputs": [],
   "source": [
    "SERVER = \"http://localhost:81/\""
   ]
  },
  {
   "cell_type": "code",
   "execution_count": 4,
   "metadata": {
    "collapsed": true
   },
   "outputs": [],
   "source": [
    "api = BedrockAPI(SERVER)"
   ]
  },
  {
   "cell_type": "code",
   "execution_count": 5,
   "metadata": {
    "collapsed": true
   },
   "outputs": [],
   "source": [
    "filepath =  '/home/atam6/git/bedrock-core/examples/RAND2011study/Rand2011PNAS_cooperation_data.csv'"
   ]
  },
  {
   "cell_type": "code",
   "execution_count": 6,
   "metadata": {},
   "outputs": [
    {
     "name": "stderr",
     "output_type": "stream",
     "text": [
      "INFO: 2017-09-05 12:06:12,626: putting source to: http://localhost:81/dataloader/sources/Rand2001/opals.spreadsheet.Spreadsheet.Spreadsheet/default/\n"
     ]
    },
    {
     "name": "stdout",
     "output_type": "stream",
     "text": [
      "Failed to update /home/atam6/git/bedrock-core/examples/RAND2011study/Rand2011PNAS_cooperation_data.csv\n"
     ]
    }
   ],
   "source": [
    "ingest_id = 'opals.spreadsheet.Spreadsheet.Spreadsheet'\n",
    "resp = api.put_source('Rand2001',ingest_id, 'default',{'file':open(filepath, \"rb\")})\n",
    "if resp.status_code == 201:\n",
    "    print 'Source {0} successfully uploaded'.format(filepath)\n",
    "else:\n",
    "    print 'Failed to update {0}'.format(filepath)"
   ]
  },
  {
   "cell_type": "code",
   "execution_count": 7,
   "metadata": {
    "scrolled": true
   },
   "outputs": [
    {
     "name": "stderr",
     "output_type": "stream",
     "text": [
      "INFO: 2017-09-05 12:06:12,810: Listing: http://localhost:81/dataloader/sources/\n"
     ]
    }
   ],
   "source": [
    "available_sources = api.list(\"dataloader\",\"sources\").json()\n",
    "source = (s for s in available_sources if s[\"name\"] == \"Rand2001\").next()\n",
    "source_id = source[\"src_id\"]\n",
    "endpoint = api.endpoint(\"dataloader\",\"sources/%s/explore/\" % source_id)\n",
    "resp = requests.get(endpoint)"
   ]
  },
  {
   "cell_type": "code",
   "execution_count": 8,
   "metadata": {},
   "outputs": [
    {
     "name": "stdout",
     "output_type": "stream",
     "text": [
      "{u'src_id': u'2876d3ecda384e6ca195fefc0de078e9', u'name': u'rand_mtx', u'created': u'2017-09-05 16:06:13.255521', u'outputs': [u'features_original.txt', u'features.txt', u'matrix.csv'], u'id': u'28c95f5637ff4631a8b20d5fd98348a2', u'rootdir': u'/opt/bedrock/dataloader/data/2876d3ecda384e6ca195fefc0de078e9/28c95f5637ff4631a8b20d5fd98348a2/', u'filters': {u'fluid_dummy': {}, u'previous_decision': {}, u'group_size': {}, u'decision0d1c': {}, u'playerid': {}, u'_Icondition_4': {}, u'_Icondition_3': {}, u'_Icondition_2': {}, u'sessionnum': {}, u'num_neighbors': {}, u'round_num': {}, u'condition': {}}, u'mat_type': u'csv'}\n"
     ]
    }
   ],
   "source": [
    "resp = api.create_matrix(source_id, 'rand_mtx')\n",
    "mtx = resp[0]\n",
    "matrix_id = mtx['id']\n",
    "print(mtx)\n",
    "#resp"
   ]
  },
  {
   "cell_type": "code",
   "execution_count": 9,
   "metadata": {},
   "outputs": [
    {
     "name": "stdout",
     "output_type": "stream",
     "text": [
      "Stan_GLM Opal Installed!\n"
     ]
    }
   ],
   "source": [
    "resp = api.analytic('opals.stan.Stan.Stan_GLM')\n",
    "if resp.json():\n",
    "    print(\"Stan_GLM Opal Installed!\")\n",
    "else:\n",
    "    print(\"Stan_GLM Opal Not Installed!\")"
   ]
  },
  {
   "cell_type": "code",
   "execution_count": 10,
   "metadata": {},
   "outputs": [
    {
     "data": {
      "text/plain": [
       "<Response [200]>"
      ]
     },
     "execution_count": 10,
     "metadata": {},
     "output_type": "execute_result"
    }
   ],
   "source": [
    "resp"
   ]
  },
  {
   "cell_type": "markdown",
   "metadata": {},
   "source": [
    "## Run Stan_GLM"
   ]
  },
  {
   "cell_type": "code",
   "execution_count": 11,
   "metadata": {},
   "outputs": [
    {
     "data": {
      "text/plain": [
       "{u'analytic_id': u'opals.stan.Stan.Stan_GLM',\n",
       " u'created': u'2017-09-05 16:07:20.026469',\n",
       " u'id': u'4ccd7d9f480648ca83dcb2486f6f36ef',\n",
       " u'name': u'rand_stan_test',\n",
       " u'outputs': [u'prior_summary.txt', u'summary.txt'],\n",
       " u'parameters': [{u'attrname': u'formula',\n",
       "   u'name': u'Formula',\n",
       "   u'type': u'input',\n",
       "   u'value': u'decision0d1c ~ condition'},\n",
       "  {u'attrname': u'family',\n",
       "   u'name': u'GLM family',\n",
       "   u'type': u'input',\n",
       "   u'value': u\"binomial(link = 'logit')\"},\n",
       "  {u'attrname': u'chains',\n",
       "   u'name': u'chains',\n",
       "   u'type': u'input',\n",
       "   u'value': u'3'},\n",
       "  {u'attrname': u'iter',\n",
       "   u'name': u'iter',\n",
       "   u'type': u'input',\n",
       "   u'value': u'3000'},\n",
       "  {u'attrname': u'prior', u'name': u'prior', u'type': u'input', u'value': u''},\n",
       "  {u'attrname': u'prior_intercept',\n",
       "   u'name': u'prior_intercept',\n",
       "   u'type': u'input',\n",
       "   u'value': u''}],\n",
       " u'rootdir': u'/opt/bedrock/analytics/data/28c95f5637ff4631a8b20d5fd98348a2/4ccd7d9f480648ca83dcb2486f6f36ef/',\n",
       " u'src_id': u'28c95f5637ff4631a8b20d5fd98348a2'}"
      ]
     },
     "execution_count": 11,
     "metadata": {},
     "output_type": "execute_result"
    }
   ],
   "source": [
    "analytic_id = \"opals.stan.Stan.Stan_GLM\"\n",
    "inputData = {\n",
    "    'matrix.csv': mtx,\n",
    "    'features.txt': mtx\n",
    "}\n",
    "\n",
    "paramsData = [\n",
    "            { \"name\" : \"Formula\", \"attrname\" : \"formula\", \"value\" : \"decision0d1c ~ condition\", \"type\" : \"input\" },\n",
    "            { \"name\" : \"GLM family\", \"attrname\" : \"family\", \"value\" : \"binomial(link = 'logit')\", \"type\" : \"input\" },\n",
    "            { \"name\" : \"chains\", \"attrname\" : \"chains\" , \"value\" : \"3\", \"type\" : \"input\"},\n",
    "            { \"name\" : \"iter\", \"attrname\" : \"iter\" , \"value\" : \"3000\", \"type\" : \"input\"},\n",
    "            { \"name\" : \"prior\", \"attrname\" : \"prior\" , \"value\" : \"\", \"type\" : \"input\"},\n",
    "            { \"name\" : \"prior_intercept\", \"attrname\" : \"prior_intercept\" , \"value\" : \"\", \"type\" : \"input\"}\n",
    "        ]\n",
    "\n",
    "result_mtx = api.run_analytic(analytic_id, mtx, 'rand_stan_test', input_data=inputData, parameter_data=paramsData)\n",
    "\n",
    "result_mtx"
   ]
  },
  {
   "cell_type": "markdown",
   "metadata": {},
   "source": [
    "## Get Stan_GLM outputs"
   ]
  },
  {
   "cell_type": "code",
   "execution_count": 14,
   "metadata": {},
   "outputs": [
    {
     "data": {
      "text/plain": [
       "u'28c95f5637ff4631a8b20d5fd98348a2'"
      ]
     },
     "execution_count": 14,
     "metadata": {},
     "output_type": "execute_result"
    }
   ],
   "source": [
    "result_mtx['src_id']"
   ]
  },
  {
   "cell_type": "code",
   "execution_count": 15,
   "metadata": {},
   "outputs": [
    {
     "data": {
      "text/plain": [
       "u'4ccd7d9f480648ca83dcb2486f6f36ef'"
      ]
     },
     "execution_count": 15,
     "metadata": {},
     "output_type": "execute_result"
    }
   ],
   "source": [
    "result_mtx['id']"
   ]
  },
  {
   "cell_type": "code",
   "execution_count": 12,
   "metadata": {},
   "outputs": [
    {
     "name": "stderr",
     "output_type": "stream",
     "text": [
      "ERROR: 2017-09-05 12:07:20,043: Unknown remote file format\n"
     ]
    }
   ],
   "source": [
    "prior_summary = api.download_results_matrix(result_mtx['src_id'], result_mtx['id'], 'prior_summary.txt')\n",
    "prior_summary\n",
    "\n"
   ]
  },
  {
   "cell_type": "code",
   "execution_count": 13,
   "metadata": {},
   "outputs": [
    {
     "name": "stderr",
     "output_type": "stream",
     "text": [
      "ERROR: 2017-09-05 12:07:20,052: Unknown remote file format\n"
     ]
    }
   ],
   "source": [
    "summary_table = api.download_results_matrix(result_mtx['src_id'], result_mtx['id'], 'summary.txt')\n",
    "summary_table\n",
    "\n"
   ]
  },
  {
   "cell_type": "code",
   "execution_count": null,
   "metadata": {
    "collapsed": true
   },
   "outputs": [],
   "source": []
  }
 ],
 "metadata": {
  "kernelspec": {
   "display_name": "Python 2",
   "language": "python",
   "name": "python2"
  },
  "language_info": {
   "codemirror_mode": {
    "name": "ipython",
    "version": 2
   },
   "file_extension": ".py",
   "mimetype": "text/x-python",
   "name": "python",
   "nbconvert_exporter": "python",
   "pygments_lexer": "ipython2",
   "version": "2.7.12"
  }
 },
 "nbformat": 4,
 "nbformat_minor": 2
}
