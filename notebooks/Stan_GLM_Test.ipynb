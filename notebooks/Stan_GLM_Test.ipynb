{
 "cells": [
  {
   "cell_type": "code",
   "execution_count": 1,
   "metadata": {
    "collapsed": true
   },
   "outputs": [],
   "source": [
    "import requests"
   ]
  },
  {
   "cell_type": "code",
   "execution_count": 2,
   "metadata": {
    "collapsed": true
   },
   "outputs": [],
   "source": [
    "from bedrock.client.client import BedrockAPI"
   ]
  },
  {
   "cell_type": "code",
   "execution_count": 3,
   "metadata": {
    "collapsed": true
   },
   "outputs": [],
   "source": [
    "SERVER = \"http://localhost:81/\""
   ]
  },
  {
   "cell_type": "code",
   "execution_count": 4,
   "metadata": {
    "collapsed": true
   },
   "outputs": [],
   "source": [
    "api = BedrockAPI(SERVER)"
   ]
  },
  {
   "cell_type": "code",
   "execution_count": 5,
   "metadata": {
    "collapsed": true
   },
   "outputs": [],
   "source": [
    "filepath =  '/home/atam6/git/bedrock-core/examples/RAND2011study/Rand2011PNAS_cooperation_data.csv'"
   ]
  },
  {
   "cell_type": "code",
   "execution_count": 6,
   "metadata": {},
   "outputs": [
    {
     "name": "stderr",
     "output_type": "stream",
     "text": [
      "INFO: 2017-09-05 18:20:11,708: putting source to: http://localhost:81/dataloader/sources/Rand2001/opals.spreadsheet.Spreadsheet.Spreadsheet/default/\n"
     ]
    },
    {
     "name": "stdout",
     "output_type": "stream",
     "text": [
      "Failed to update /home/atam6/git/bedrock-core/examples/RAND2011study/Rand2011PNAS_cooperation_data.csv\n"
     ]
    }
   ],
   "source": [
    "ingest_id = 'opals.spreadsheet.Spreadsheet.Spreadsheet'\n",
    "resp = api.put_source('Rand2001',ingest_id, 'default',{'file':open(filepath, \"rb\")})\n",
    "if resp.status_code == 201:\n",
    "    print 'Source {0} successfully uploaded'.format(filepath)\n",
    "else:\n",
    "    print 'Failed to update {0}'.format(filepath)"
   ]
  },
  {
   "cell_type": "code",
   "execution_count": 7,
   "metadata": {
    "scrolled": true
   },
   "outputs": [
    {
     "name": "stderr",
     "output_type": "stream",
     "text": [
      "INFO: 2017-09-05 18:20:11,884: Listing: http://localhost:81/dataloader/sources/\n"
     ]
    }
   ],
   "source": [
    "available_sources = api.list(\"dataloader\",\"sources\").json()\n",
    "source = (s for s in available_sources if s[\"name\"] == \"Rand2001\").next()\n",
    "source_id = source[\"src_id\"]\n",
    "endpoint = api.endpoint(\"dataloader\",\"sources/%s/explore/\" % source_id)\n",
    "resp = requests.get(endpoint)"
   ]
  },
  {
   "cell_type": "code",
   "execution_count": 8,
   "metadata": {},
   "outputs": [
    {
     "name": "stdout",
     "output_type": "stream",
     "text": [
      "{u'src_id': u'2876d3ecda384e6ca195fefc0de078e9', u'name': u'rand_mtx', u'created': u'2017-09-05 22:20:12.464150', u'outputs': [u'features_original.txt', u'features.txt', u'matrix.csv'], u'id': u'994c343acccc46ce81225e7fe2fce07d', u'rootdir': u'/opt/bedrock/dataloader/data/2876d3ecda384e6ca195fefc0de078e9/994c343acccc46ce81225e7fe2fce07d/', u'filters': {u'fluid_dummy': {}, u'previous_decision': {}, u'group_size': {}, u'decision0d1c': {}, u'playerid': {}, u'_Icondition_4': {}, u'_Icondition_3': {}, u'_Icondition_2': {}, u'sessionnum': {}, u'num_neighbors': {}, u'round_num': {}, u'condition': {}}, u'mat_type': u'csv'}\n"
     ]
    }
   ],
   "source": [
    "resp = api.create_matrix(source_id, 'rand_mtx')\n",
    "mtx = resp[0]\n",
    "matrix_id = mtx['id']\n",
    "print(mtx)\n",
    "#resp"
   ]
  },
  {
   "cell_type": "code",
   "execution_count": 9,
   "metadata": {},
   "outputs": [
    {
     "name": "stdout",
     "output_type": "stream",
     "text": [
      "Stan_GLM Opal Installed!\n"
     ]
    }
   ],
   "source": [
    "resp = api.analytic('opals.stan.Stan.Stan_GLM')\n",
    "if resp.json():\n",
    "    print(\"Stan_GLM Opal Installed!\")\n",
    "else:\n",
    "    print(\"Stan_GLM Opal Not Installed!\")"
   ]
  },
  {
   "cell_type": "code",
   "execution_count": 10,
   "metadata": {},
   "outputs": [
    {
     "data": {
      "text/plain": [
       "<Response [200]>"
      ]
     },
     "execution_count": 10,
     "metadata": {},
     "output_type": "execute_result"
    }
   ],
   "source": [
    "resp"
   ]
  },
  {
   "cell_type": "markdown",
   "metadata": {},
   "source": [
    "## Run Stan_GLM"
   ]
  },
  {
   "cell_type": "code",
   "execution_count": 11,
   "metadata": {
    "scrolled": true
   },
   "outputs": [],
   "source": [
    "analytic_id = \"opals.stan.Stan.Stan_GLM\"\n",
    "inputData = {\n",
    "    'matrix.csv': mtx,\n",
    "    'features.txt': mtx\n",
    "}\n",
    "\n",
    "paramsData = [\n",
    "            { \"name\" : \"Formula\", \"attrname\" : \"formula\", \"value\" : \"decision0d1c ~ condition\", \"type\" : \"input\" },\n",
    "            { \"name\" : \"GLM family\", \"attrname\" : \"family\", \"value\" : 'binomial(link = \"logit\")', \"type\" : \"input\" },\n",
    "            { \"name\" : \"chains\", \"attrname\" : \"chains\" , \"value\" : \"3\", \"type\" : \"input\"},\n",
    "            { \"name\" : \"iter\", \"attrname\" : \"iter\" , \"value\" : \"3000\", \"type\" : \"input\"},\n",
    "            { \"name\" : \"prior\", \"attrname\" : \"prior\" , \"value\" : \"\", \"type\" : \"input\"},\n",
    "            { \"name\" : \"prior_intercept\", \"attrname\" : \"prior_intercept\" , \"value\" : \"\", \"type\" : \"input\"}\n",
    "        ]\n",
    "\n",
    "result_mtx = api.run_analytic(analytic_id, mtx, 'rand_stan_test', input_data=inputData, parameter_data=paramsData)"
   ]
  },
  {
   "cell_type": "code",
   "execution_count": 12,
   "metadata": {},
   "outputs": [
    {
     "name": "stdout",
     "output_type": "stream",
     "text": [
      "{u'src_id': u'994c343acccc46ce81225e7fe2fce07d', u'name': u'rand_stan_test', u'parameters': [{u'attrname': u'formula', u'type': u'input', u'name': u'Formula', u'value': u'decision0d1c ~ condition'}, {u'attrname': u'family', u'type': u'input', u'name': u'GLM family', u'value': u'binomial(link = \"logit\")'}, {u'attrname': u'chains', u'type': u'input', u'name': u'chains', u'value': u'3'}, {u'attrname': u'iter', u'type': u'input', u'name': u'iter', u'value': u'3000'}, {u'attrname': u'prior', u'type': u'input', u'name': u'prior', u'value': u''}, {u'attrname': u'prior_intercept', u'type': u'input', u'name': u'prior_intercept', u'value': u''}], u'created': u'2017-09-05 22:21:18.540440', u'outputs': [u'prior_summary.txt', u'summary.txt'], u'analytic_id': u'opals.stan.Stan.Stan_GLM', u'rootdir': u'/opt/bedrock/analytics/data/994c343acccc46ce81225e7fe2fce07d/2f632270bb6b4b5fba0750542e562b72/', u'id': u'2f632270bb6b4b5fba0750542e562b72'}\n"
     ]
    }
   ],
   "source": [
    "print result_mtx"
   ]
  },
  {
   "cell_type": "markdown",
   "metadata": {},
   "source": [
    "## Get Stan_GLM outputs"
   ]
  },
  {
   "cell_type": "code",
   "execution_count": 13,
   "metadata": {},
   "outputs": [
    {
     "data": {
      "text/plain": [
       "u'994c343acccc46ce81225e7fe2fce07d'"
      ]
     },
     "execution_count": 13,
     "metadata": {},
     "output_type": "execute_result"
    }
   ],
   "source": [
    "result_mtx['src_id']"
   ]
  },
  {
   "cell_type": "code",
   "execution_count": 14,
   "metadata": {},
   "outputs": [
    {
     "data": {
      "text/plain": [
       "u'2f632270bb6b4b5fba0750542e562b72'"
      ]
     },
     "execution_count": 14,
     "metadata": {},
     "output_type": "execute_result"
    }
   ],
   "source": [
    "result_mtx['id']"
   ]
  },
  {
   "cell_type": "code",
   "execution_count": 15,
   "metadata": {
    "collapsed": true
   },
   "outputs": [],
   "source": [
    "import requests"
   ]
  },
  {
   "cell_type": "code",
   "execution_count": 16,
   "metadata": {
    "collapsed": true
   },
   "outputs": [],
   "source": [
    "base_url = \"http://localhost:81/analytics/results/{0}/{1}/download/prior_summary.txt/prior_summary.txt/\""
   ]
  },
  {
   "cell_type": "code",
   "execution_count": 17,
   "metadata": {
    "collapsed": true
   },
   "outputs": [],
   "source": [
    "url = base_url.format(result_mtx['src_id'],result_mtx['id'])"
   ]
  },
  {
   "cell_type": "code",
   "execution_count": 18,
   "metadata": {
    "collapsed": true
   },
   "outputs": [],
   "source": [
    "response = requests.get(url)"
   ]
  },
  {
   "cell_type": "code",
   "execution_count": 24,
   "metadata": {},
   "outputs": [
    {
     "name": "stdout",
     "output_type": "stream",
     "text": [
      "\n",
      "Model Info:\n",
      "\n",
      " function:  stan_glm\n",
      " family:    binomial [logit]\n",
      " formula:   \"decision0d1c~round_num\"\n",
      " algorithm: sampling\n",
      " priors:    see help('prior_summary')\n",
      " sample:    4500 (posterior sample size)\n",
      " num obs:   3876\n",
      "\n",
      "Estimates:\n",
      "                mean    sd      2.5%    25%     50%     75%     97.5%\n",
      "(Intercept)       0.4     0.1     0.3     0.4     0.4     0.5     0.6\n",
      "round_num10      -1.6     0.3    -2.2    -1.8    -1.6    -1.4    -1.0\n",
      "round_num11      -1.4     0.3    -2.0    -1.6    -1.4    -1.2    -0.9\n",
      "round_num2        0.1     0.1    -0.1     0.0     0.1     0.1     0.3\n",
      "round_num3       -0.2     0.1    -0.4    -0.3    -0.2    -0.1     0.0\n",
      "round_num4       -0.3     0.1    -0.5    -0.4    -0.3    -0.2    -0.1\n",
      "round_num5       -0.5     0.1    -0.8    -0.6    -0.5    -0.4    -0.3\n",
      "round_num6       -0.7     0.1    -1.0    -0.8    -0.7    -0.6    -0.4\n",
      "round_num7       -0.7     0.2    -1.0    -0.8    -0.7    -0.6    -0.4\n",
      "round_num8       -0.8     0.2    -1.1    -0.9    -0.8    -0.7    -0.5\n",
      "round_num9       -0.8     0.2    -1.2    -0.9    -0.8    -0.7    -0.4\n",
      "mean_PPD          0.5     0.0     0.5     0.5     0.5     0.5     0.6\n",
      "log-posterior -2632.4     2.4 -2638.1 -2633.7 -2632.0 -2630.6 -2628.8\n",
      "\n",
      "Diagnostics:\n",
      "              mcse Rhat n_eff\n",
      "(Intercept)   0.0  1.0  1877 \n",
      "round_num10   0.0  1.0  3902 \n",
      "round_num11   0.0  1.0  4500 \n",
      "round_num2    0.0  1.0  2645 \n",
      "round_num3    0.0  1.0  2744 \n",
      "round_num4    0.0  1.0  3058 \n",
      "round_num5    0.0  1.0  3124 \n",
      "round_num6    0.0  1.0  3047 \n",
      "round_num7    0.0  1.0  2992 \n",
      "round_num8    0.0  1.0  4500 \n",
      "round_num9    0.0  1.0  4500 \n",
      "mean_PPD      0.0  1.0  4500 \n",
      "log-posterior 0.1  1.0  2177 \n",
      "\n",
      "For each parameter, mcse is Monte Carlo standard error, n_eff is a crude measure of effective sample size, and Rhat is the potential scale reduction factor on split chains (at convergence Rhat=1).\n",
      "\n"
     ]
    }
   ],
   "source": [
    "print response.text"
   ]
  },
  {
   "cell_type": "code",
   "execution_count": 20,
   "metadata": {
    "collapsed": true
   },
   "outputs": [],
   "source": [
    "base_url = \"http://localhost:81/analytics/results/{0}/{1}/download/summary.txt/summary.txt/\""
   ]
  },
  {
   "cell_type": "code",
   "execution_count": 21,
   "metadata": {
    "collapsed": true
   },
   "outputs": [],
   "source": [
    "url = base_url.format(result_mtx['src_id'],result_mtx['id'])"
   ]
  },
  {
   "cell_type": "code",
   "execution_count": 22,
   "metadata": {
    "collapsed": true
   },
   "outputs": [],
   "source": [
    "response = requests.get(url)"
   ]
  },
  {
   "cell_type": "code",
   "execution_count": 25,
   "metadata": {},
   "outputs": [
    {
     "name": "stdout",
     "output_type": "stream",
     "text": [
      "\n",
      "Model Info:\n",
      "\n",
      " function:  stan_glm\n",
      " family:    binomial [logit]\n",
      " formula:   \"decision0d1c~round_num\"\n",
      " algorithm: sampling\n",
      " priors:    see help('prior_summary')\n",
      " sample:    4500 (posterior sample size)\n",
      " num obs:   3876\n",
      "\n",
      "Estimates:\n",
      "                mean    sd      2.5%    25%     50%     75%     97.5%\n",
      "(Intercept)       0.4     0.1     0.3     0.4     0.4     0.5     0.6\n",
      "round_num10      -1.6     0.3    -2.2    -1.8    -1.6    -1.4    -1.0\n",
      "round_num11      -1.4     0.3    -2.0    -1.6    -1.4    -1.2    -0.9\n",
      "round_num2        0.1     0.1    -0.1     0.0     0.1     0.1     0.3\n",
      "round_num3       -0.2     0.1    -0.4    -0.3    -0.2    -0.1     0.0\n",
      "round_num4       -0.3     0.1    -0.5    -0.4    -0.3    -0.2    -0.1\n",
      "round_num5       -0.5     0.1    -0.8    -0.6    -0.5    -0.4    -0.3\n",
      "round_num6       -0.7     0.1    -1.0    -0.8    -0.7    -0.6    -0.4\n",
      "round_num7       -0.7     0.2    -1.0    -0.8    -0.7    -0.6    -0.4\n",
      "round_num8       -0.8     0.2    -1.1    -0.9    -0.8    -0.7    -0.5\n",
      "round_num9       -0.8     0.2    -1.2    -0.9    -0.8    -0.7    -0.4\n",
      "mean_PPD          0.5     0.0     0.5     0.5     0.5     0.5     0.6\n",
      "log-posterior -2632.4     2.4 -2638.1 -2633.7 -2632.0 -2630.6 -2628.8\n",
      "\n",
      "Diagnostics:\n",
      "              mcse Rhat n_eff\n",
      "(Intercept)   0.0  1.0  1877 \n",
      "round_num10   0.0  1.0  3902 \n",
      "round_num11   0.0  1.0  4500 \n",
      "round_num2    0.0  1.0  2645 \n",
      "round_num3    0.0  1.0  2744 \n",
      "round_num4    0.0  1.0  3058 \n",
      "round_num5    0.0  1.0  3124 \n",
      "round_num6    0.0  1.0  3047 \n",
      "round_num7    0.0  1.0  2992 \n",
      "round_num8    0.0  1.0  4500 \n",
      "round_num9    0.0  1.0  4500 \n",
      "mean_PPD      0.0  1.0  4500 \n",
      "log-posterior 0.1  1.0  2177 \n",
      "\n",
      "For each parameter, mcse is Monte Carlo standard error, n_eff is a crude measure of effective sample size, and Rhat is the potential scale reduction factor on split chains (at convergence Rhat=1).\n",
      "\n"
     ]
    }
   ],
   "source": [
    "print response.text"
   ]
  },
  {
   "cell_type": "code",
   "execution_count": null,
   "metadata": {
    "collapsed": true
   },
   "outputs": [],
   "source": []
  },
  {
   "cell_type": "code",
   "execution_count": null,
   "metadata": {
    "collapsed": true
   },
   "outputs": [],
   "source": []
  }
 ],
 "metadata": {
  "kernelspec": {
   "display_name": "Python 2",
   "language": "python",
   "name": "python2"
  },
  "language_info": {
   "codemirror_mode": {
    "name": "ipython",
    "version": 2
   },
   "file_extension": ".py",
   "mimetype": "text/x-python",
   "name": "python",
   "nbconvert_exporter": "python",
   "pygments_lexer": "ipython2",
   "version": "2.7.12"
  }
 },
 "nbformat": 4,
 "nbformat_minor": 2
}
